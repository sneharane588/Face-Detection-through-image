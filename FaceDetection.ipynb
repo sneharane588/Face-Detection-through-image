{
 "cells": [
  {
   "cell_type": "code",
   "execution_count": 6,
   "metadata": {},
   "outputs": [],
   "source": [
    "import cv2 as cv"
   ]
  },
  {
   "cell_type": "code",
   "execution_count": 7,
   "metadata": {},
   "outputs": [],
   "source": [
    "original_img=cv.imread(\"friends.jpg\")"
   ]
  },
  {
   "cell_type": "code",
   "execution_count": 8,
   "metadata": {},
   "outputs": [],
   "source": [
    "grayscale_img=cv.cvtColor(original_img, cv.COLOR_BGR2GRAY)\n",
    "face_cascade=cv.CascadeClassifier(\"haarcascade_frontalface_alt.xml\")\n",
    "detected_faces=face_cascade.detectMultiScale(grayscale_img, 1.3)\n",
    "#1.3 is scale factor works best for this picture"
   ]
  },
  {
   "cell_type": "code",
   "execution_count": 9,
   "metadata": {},
   "outputs": [],
   "source": [
    "for(column, row, width, height) in detected_faces:\n",
    "    cv.rectangle(\n",
    "        original_img,\n",
    "        (column,row),\n",
    "        (column+width, row+height),\n",
    "        (0, 255, 0),\n",
    "        3\n",
    "    )"
   ]
  },
  {
   "cell_type": "markdown",
   "metadata": {},
   "source": [
    "##to shrink the high resolution image"
   ]
  },
  {
   "cell_type": "code",
   "execution_count": 10,
   "metadata": {},
   "outputs": [],
   "source": [
    "small = cv.resize(original_img, (0,0), fx=0.3, fy=0.3)\n",
    "cv.imshow('Image',small)\n",
    "\n",
    "cv.waitKey(0)\n",
    "cv.destroyAllWindows()"
   ]
  },
  {
   "cell_type": "code",
   "execution_count": null,
   "metadata": {},
   "outputs": [],
   "source": []
  }
 ],
 "metadata": {
  "kernelspec": {
   "display_name": "Python 3",
   "language": "python",
   "name": "python3"
  },
  "language_info": {
   "codemirror_mode": {
    "name": "ipython",
    "version": 3
   },
   "file_extension": ".py",
   "mimetype": "text/x-python",
   "name": "python",
   "nbconvert_exporter": "python",
   "pygments_lexer": "ipython3",
   "version": "3.8.2"
  }
 },
 "nbformat": 4,
 "nbformat_minor": 4
}
